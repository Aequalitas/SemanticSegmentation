{
 "cells": [
  {
   "cell_type": "code",
   "execution_count": null,
   "metadata": {
    "scrolled": false
   },
   "outputs": [
    {
     "name": "stdout",
     "output_type": "stream",
     "text": [
      "MODE:  train\n",
      "trainSize:  38300  Testsize:  1276 Validationsize:  2980\n",
      "INFO:tensorflow:Restoring parameters from ../models/model12896AirbusuNet.ckpt\n",
      "Starting training...\n",
      "Epoch : 1 || Step: 2000/9575.0 || loss:0.02974 || train_accuracy:10.15355% || ETA: 0:31:05.892130\n",
      "Model saved in file: ../models/model12896AirbusuNet.ckpt\n",
      "Epoch : 1 || Step: 4000/9575.0 || loss:0.0282 || train_accuracy:10.14572% || ETA: 0:22:40.4286974\n",
      "Model saved in file: ../models/model12896AirbusuNet.ckpt\n",
      "Epoch : 1 || Step: 6000/9575.0 || loss:0.02681 || train_accuracy:10.14293% || ETA: 0:14:40.102229\n",
      "Model saved in file: ../models/model12896AirbusuNet.ckpt\n",
      "Epoch : 1 || Step: 8000/9575.0 || loss:0.02549 || train_accuracy:10.1553% || ETA: 0:06:25.7602897\n",
      "Model saved in file: ../models/model12896AirbusuNet.ckpt\n",
      "Epoch : 1 || Step: 9400/9575.0 || loss:0.02466 || train_accuracy:10.16158% || ETA: 0:00:43.330139\r"
     ]
    }
   ],
   "source": [
    "%matplotlib inline\n",
    "\n",
    "import main\n",
    "main.deepSS(\"train\", \"uNet\")"
   ]
  },
  {
   "cell_type": "code",
   "execution_count": null,
   "metadata": {},
   "outputs": [],
   "source": []
  }
 ],
 "metadata": {
  "kernelspec": {
   "display_name": "Python 3",
   "language": "python",
   "name": "python3"
  },
  "language_info": {
   "codemirror_mode": {
    "name": "ipython",
    "version": 3
   },
   "file_extension": ".py",
   "mimetype": "text/x-python",
   "name": "python",
   "nbconvert_exporter": "python",
   "pygments_lexer": "ipython3",
   "version": "3.6.6"
  }
 },
 "nbformat": 4,
 "nbformat_minor": 2
}
